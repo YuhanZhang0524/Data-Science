{
 "cells": [
  {
   "cell_type": "markdown",
   "id": "9557fe49-7a9d-4717-b0a7-70b594c4cedf",
   "metadata": {
    "tags": []
   },
   "source": [
    "# My Jupyter Notebook on IBM Watson Studio"
   ]
  },
  {
   "cell_type": "markdown",
   "id": "496aac22-3477-4dc7-9457-30877c50e061",
   "metadata": {},
   "source": [
    "**Zhang Yuhan**  \n",
    "engineer"
   ]
  },
  {
   "cell_type": "markdown",
   "id": "b2322d4f-de9b-4bc2-a733-42beec27e195",
   "metadata": {},
   "source": [
    "*I am interested in data science because data science can change our life. And as a data scientist, the journey through discovering insights leads to innovation.*"
   ]
  },
  {
   "cell_type": "markdown",
   "id": "c18c0ba4-27f8-4e44-a5e9-65dde3ef9efe",
   "metadata": {
    "tags": []
   },
   "source": [
    "### this will be a basic calculation"
   ]
  },
  {
   "cell_type": "code",
   "execution_count": 5,
   "id": "71700ea6-cc16-4cbf-a3c7-489043e18f6f",
   "metadata": {},
   "outputs": [
    {
     "name": "stdout",
     "output_type": "stream",
     "text": [
      "272\n"
     ]
    }
   ],
   "source": [
    "a = 2\n",
    "b = 3\n",
    "c = 90\n",
    "print(a + b * c)"
   ]
  },
  {
   "cell_type": "markdown",
   "id": "89dafb59-a296-45cf-91b2-faf921607a7b",
   "metadata": {},
   "source": [
    "---\n",
    "<li>list 1</li>\n",
    "<li>list 2</li>\n",
    "<li>list 3</li>\n",
    "<li>list 4</li>\n",
    "\n",
    "---\n",
    "\n",
    "<table border=\"1\">\n",
    "    <tr>\n",
    "        <td>row 1, cell 1</td>\n",
    "        <td>row 1, cell 2</td>\n",
    "    </tr>\n",
    "    <tr>\n",
    "        <td>row 2, cell 1</td>\n",
    "        <td>row 2, cell 2</td>\n",
    "    </tr> \n",
    "</table>\n",
    " \n",
    " ---\n",
    " \n",
    "<h1><a href=\"https://github.com/\">Github</a></h1>"
   ]
  }
 ],
 "metadata": {
  "kernelspec": {
   "display_name": "Python 3 (ipykernel)",
   "language": "python",
   "name": "python3"
  },
  "language_info": {
   "codemirror_mode": {
    "name": "ipython",
    "version": 3
   },
   "file_extension": ".py",
   "mimetype": "text/x-python",
   "name": "python",
   "nbconvert_exporter": "python",
   "pygments_lexer": "ipython3",
   "version": "3.9.7"
  }
 },
 "nbformat": 4,
 "nbformat_minor": 5
}
